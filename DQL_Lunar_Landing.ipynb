{
  "cells": [
    {
      "cell_type": "code",
      "execution_count": 1,
      "metadata": {
        "colab": {
          "base_uri": "https://localhost:8080/"
        },
        "id": "irk2AgBjIPYm",
        "outputId": "32f47565-2773-4831-8194-f1fdec52819d"
      },
      "outputs": [
        {
          "output_type": "stream",
          "name": "stdout",
          "text": [
            "Requirement already satisfied: gymnasium==0.29.1 in /usr/local/lib/python3.10/dist-packages (0.29.1)\n",
            "Requirement already satisfied: numpy>=1.21.0 in /usr/local/lib/python3.10/dist-packages (from gymnasium==0.29.1) (1.26.4)\n",
            "Requirement already satisfied: cloudpickle>=1.2.0 in /usr/local/lib/python3.10/dist-packages (from gymnasium==0.29.1) (2.2.1)\n",
            "Requirement already satisfied: typing-extensions>=4.3.0 in /usr/local/lib/python3.10/dist-packages (from gymnasium==0.29.1) (4.12.2)\n",
            "Requirement already satisfied: farama-notifications>=0.0.1 in /usr/local/lib/python3.10/dist-packages (from gymnasium==0.29.1) (0.0.4)\n",
            "Requirement already satisfied: gymnasium[accept-rom-license] in /usr/local/lib/python3.10/dist-packages (0.29.1)\n",
            "Requirement already satisfied: numpy>=1.21.0 in /usr/local/lib/python3.10/dist-packages (from gymnasium[accept-rom-license]) (1.26.4)\n",
            "Requirement already satisfied: cloudpickle>=1.2.0 in /usr/local/lib/python3.10/dist-packages (from gymnasium[accept-rom-license]) (2.2.1)\n",
            "Requirement already satisfied: typing-extensions>=4.3.0 in /usr/local/lib/python3.10/dist-packages (from gymnasium[accept-rom-license]) (4.12.2)\n",
            "Requirement already satisfied: farama-notifications>=0.0.1 in /usr/local/lib/python3.10/dist-packages (from gymnasium[accept-rom-license]) (0.0.4)\n",
            "Requirement already satisfied: autorom~=0.4.2 in /usr/local/lib/python3.10/dist-packages (from autorom[accept-rom-license]~=0.4.2; extra == \"accept-rom-license\"->gymnasium[accept-rom-license]) (0.4.2)\n",
            "Requirement already satisfied: click in /usr/local/lib/python3.10/dist-packages (from autorom~=0.4.2->autorom[accept-rom-license]~=0.4.2; extra == \"accept-rom-license\"->gymnasium[accept-rom-license]) (8.1.7)\n",
            "Requirement already satisfied: requests in /usr/local/lib/python3.10/dist-packages (from autorom~=0.4.2->autorom[accept-rom-license]~=0.4.2; extra == \"accept-rom-license\"->gymnasium[accept-rom-license]) (2.32.3)\n",
            "Requirement already satisfied: tqdm in /usr/local/lib/python3.10/dist-packages (from autorom~=0.4.2->autorom[accept-rom-license]~=0.4.2; extra == \"accept-rom-license\"->gymnasium[accept-rom-license]) (4.66.5)\n",
            "Requirement already satisfied: AutoROM.accept-rom-license in /usr/local/lib/python3.10/dist-packages (from autorom[accept-rom-license]~=0.4.2; extra == \"accept-rom-license\"->gymnasium[accept-rom-license]) (0.6.1)\n",
            "Requirement already satisfied: charset-normalizer<4,>=2 in /usr/local/lib/python3.10/dist-packages (from requests->autorom~=0.4.2->autorom[accept-rom-license]~=0.4.2; extra == \"accept-rom-license\"->gymnasium[accept-rom-license]) (3.3.2)\n",
            "Requirement already satisfied: idna<4,>=2.5 in /usr/local/lib/python3.10/dist-packages (from requests->autorom~=0.4.2->autorom[accept-rom-license]~=0.4.2; extra == \"accept-rom-license\"->gymnasium[accept-rom-license]) (3.7)\n",
            "Requirement already satisfied: urllib3<3,>=1.21.1 in /usr/local/lib/python3.10/dist-packages (from requests->autorom~=0.4.2->autorom[accept-rom-license]~=0.4.2; extra == \"accept-rom-license\"->gymnasium[accept-rom-license]) (2.0.7)\n",
            "Requirement already satisfied: certifi>=2017.4.17 in /usr/local/lib/python3.10/dist-packages (from requests->autorom~=0.4.2->autorom[accept-rom-license]~=0.4.2; extra == \"accept-rom-license\"->gymnasium[accept-rom-license]) (2024.7.4)\n",
            "\u001b[1;31mE: \u001b[0mCommand line option 'g' [from -get] is not understood in combination with the other options.\u001b[0m\n"
          ]
        }
      ],
      "source": [
        "#installing necessary libraries\n",
        "!pip install gymnasium==0.29.1\n",
        "!pip install gymnasium[accept-rom-license]\n",
        "!apt -get install -y swig"
      ]
    },
    {
      "cell_type": "code",
      "execution_count": 2,
      "metadata": {
        "colab": {
          "base_uri": "https://localhost:8080/"
        },
        "id": "3JagnaWBMe7a",
        "outputId": "85417f60-3850-426f-a111-aca22844ff99"
      },
      "outputs": [
        {
          "output_type": "stream",
          "name": "stdout",
          "text": [
            "Requirement already satisfied: wheel in /usr/local/lib/python3.10/dist-packages (0.44.0)\n",
            "Requirement already satisfied: setuptools in /usr/local/lib/python3.10/dist-packages (72.2.0)\n",
            "Requirement already satisfied: pip in /usr/local/lib/python3.10/dist-packages (24.2)\n",
            "Requirement already satisfied: swig in /usr/local/lib/python3.10/dist-packages (4.2.1)\n",
            "Requirement already satisfied: gymnasium[box2d] in /usr/local/lib/python3.10/dist-packages (0.29.1)\n",
            "Requirement already satisfied: numpy>=1.21.0 in /usr/local/lib/python3.10/dist-packages (from gymnasium[box2d]) (1.26.4)\n",
            "Requirement already satisfied: cloudpickle>=1.2.0 in /usr/local/lib/python3.10/dist-packages (from gymnasium[box2d]) (2.2.1)\n",
            "Requirement already satisfied: typing-extensions>=4.3.0 in /usr/local/lib/python3.10/dist-packages (from gymnasium[box2d]) (4.12.2)\n",
            "Requirement already satisfied: farama-notifications>=0.0.1 in /usr/local/lib/python3.10/dist-packages (from gymnasium[box2d]) (0.0.4)\n",
            "Collecting box2d-py==2.3.5 (from gymnasium[box2d])\n",
            "  Using cached box2d-py-2.3.5.tar.gz (374 kB)\n",
            "  Preparing metadata (setup.py) ... \u001b[?25l\u001b[?25hdone\n",
            "Requirement already satisfied: pygame>=2.1.3 in /usr/local/lib/python3.10/dist-packages (from gymnasium[box2d]) (2.6.0)\n",
            "Requirement already satisfied: swig==4.* in /usr/local/lib/python3.10/dist-packages (from gymnasium[box2d]) (4.2.1)\n",
            "Building wheels for collected packages: box2d-py\n",
            "  Building wheel for box2d-py (setup.py) ... \u001b[?25l\u001b[?25hdone\n",
            "  Created wheel for box2d-py: filename=box2d_py-2.3.5-cp310-cp310-linux_x86_64.whl size=2376097 sha256=02dc935acfe4d2188c5568f4f5b066cb1aaf61cf94a0562fd129978935a40362\n",
            "  Stored in directory: /root/.cache/pip/wheels/db/8f/6a/eaaadf056fba10a98d986f6dce954e6201ba3126926fc5ad9e\n",
            "Successfully built box2d-py\n",
            "Installing collected packages: box2d-py\n",
            "Successfully installed box2d-py-2.3.5\n"
          ]
        }
      ],
      "source": [
        "!pip install wheel setuptools pip --upgrade\n",
        "!pip install swig\n",
        "!pip install gymnasium[box2d]"
      ]
    },
    {
      "cell_type": "code",
      "execution_count": 3,
      "metadata": {
        "id": "rFcg41cSIkPv"
      },
      "outputs": [],
      "source": [
        "#importing necessary libraries\n",
        "import os\n",
        "import numpy as np\n",
        "import random\n",
        "import torch\n",
        "import torch.nn as nn\n",
        "import torch.nn.functional as F\n",
        "import torch.optim as optim\n",
        "import torch.autograd as autograd\n",
        "from torch.autograd import Variable\n",
        "from collections import deque,namedtuple\n",
        "import gymnasium as gym"
      ]
    },
    {
      "cell_type": "code",
      "execution_count": 4,
      "metadata": {
        "id": "0CDgWnLjIkTO"
      },
      "outputs": [],
      "source": [
        "#buliding the neural network\n",
        "class Network(nn.Module):\n",
        "  def __init__(self,state_size,action_size,seed=42):\n",
        "    super(Network,self).__init__()\n",
        "    self.seed = torch.manual_seed(seed)\n",
        "    self.fc1 = nn.Linear(state_size,72)\n",
        "    self.fc2 = nn.Linear(72,84)\n",
        "    self.fc3 = nn.Linear(84,action_size)\n",
        "    print(self.fc1)\n",
        "    print(self.fc2)\n",
        "    print(self.fc3)\n",
        "\n",
        "  def forward(self,state):\n",
        "    x = self.fc1(state)\n",
        "    x = F.relu(x)\n",
        "    x = self.fc2(x)\n",
        "    x = F.relu(x)\n",
        "    return self.fc3(x)"
      ]
    },
    {
      "cell_type": "code",
      "execution_count": 5,
      "metadata": {
        "id": "s0Uy9zvdIkVK",
        "colab": {
          "base_uri": "https://localhost:8080/"
        },
        "outputId": "e0754804-a0a1-4246-b964-614069b415ce"
      },
      "outputs": [
        {
          "output_type": "stream",
          "name": "stdout",
          "text": [
            "State shape:  (8,)\n",
            "State size:  8\n",
            "Number of actions:  4\n"
          ]
        }
      ],
      "source": [
        "#setting the gymnasium environment\n",
        "env = gym.make('LunarLander-v2')\n",
        "state_shape = env.observation_space.shape\n",
        "state_size = env.observation_space.shape[0]\n",
        "number_actions = env.action_space.n\n",
        "print('State shape: ', state_shape)\n",
        "print('State size: ', state_size)\n",
        "print('Number of actions: ', number_actions)"
      ]
    },
    {
      "cell_type": "code",
      "execution_count": 6,
      "metadata": {
        "id": "TAP2wpzFIkXH"
      },
      "outputs": [],
      "source": [
        "#initializing the hyperparameters\n",
        "learning_rate = 0.00005\n",
        "minibatch_size = 100\n",
        "discount_factor = 0.99\n",
        "replay_buffer_size =  100000\n",
        "interpolation_parameter = 0.001"
      ]
    },
    {
      "cell_type": "code",
      "execution_count": 7,
      "metadata": {
        "id": "eniWp2SYIkY9"
      },
      "outputs": [],
      "source": [
        "#implementing experience replay\n",
        "class ReplayBuffer(object):\n",
        "  def __init__(self,capacity):\n",
        "    self.device = torch.device(\"cuda\" if torch.cuda.is_available() else \"cpu\")\n",
        "    self.capacity = capacity\n",
        "    self.memory = []\n",
        "\n",
        "  def push(self,event):\n",
        "    self.memory.append(event)\n",
        "    if len(self.memory) > self.capacity:\n",
        "      del self.memory[0]\n",
        "\n",
        "  def sample(self,batch_size):\n",
        "    experiences = random.sample(self.memory, k = batch_size)\n",
        "    states = torch.from_numpy(np.vstack([e[0] for e in experiences if e is not None])).float().to(self.device)\n",
        "    actions = torch.from_numpy(np.vstack([e[1] for e in experiences if e is not None])).long().to(self.device)\n",
        "    rewards = torch.from_numpy(np.vstack([e[2] for e in experiences if e is not None])).float().to(self.device)\n",
        "    next_states = torch.from_numpy(np.vstack([e[3] for e in experiences if e is not None])).float().to(self.device)\n",
        "    dones = torch.from_numpy(np.vstack([e[4] for e in experiences if e is not None]).astype(np.uint8)).float().to(self.device)\n",
        "    return states, next_states, actions, rewards, dones"
      ]
    },
    {
      "cell_type": "code",
      "execution_count": 8,
      "metadata": {
        "id": "_djwSI23IkbD"
      },
      "outputs": [],
      "source": [
        "#implementing the Deep Q-Network\n",
        "class Agent():\n",
        "  def __init__(self,state_size,action_size):\n",
        "    self.device = torch.device(\"cuda\" if torch.cuda.is_available() else \"cpu\")\n",
        "    self.state_size = state_size\n",
        "    self.action_size = action_size\n",
        "    self.local_qnetwork = Network(state_size,action_size).to(self.device)\n",
        "    self.target_qnetwork = Network(state_size,action_size).to(self.device)\n",
        "    self.optimizer = optim.Adam(self.local_qnetwork.parameters(),lr=learning_rate)\n",
        "    self.memory = ReplayBuffer(replay_buffer_size)\n",
        "    self.t_step = 0\n",
        "  def step(self, state, action, reward, next_state, done):\n",
        "    self.memory.push((state, action, reward, next_state, done))\n",
        "    self.t_step = (self.t_step + 1) % 4\n",
        "    if self.t_step == 0:\n",
        "      if len(self.memory.memory) > minibatch_size:\n",
        "        experiences = self.memory.sample(100)\n",
        "        self.learn(experiences, discount_factor)\n",
        "\n",
        "  def act(self, state, epsilon = 0.):\n",
        "    state = torch.from_numpy(state).float().unsqueeze(0).to(self.device)\n",
        "    self.local_qnetwork.eval()\n",
        "    with torch.no_grad():\n",
        "      action_values = self.local_qnetwork(state)\n",
        "    self.local_qnetwork.train()\n",
        "    if random.random() > epsilon:\n",
        "      return np.argmax(action_values.cpu().data.numpy())\n",
        "    else:\n",
        "      return random.choice(np.arange(self.action_size))\n",
        "\n",
        "  def learn(self, experiences, discount_factor):\n",
        "    states, next_states, actions, rewards, dones = experiences\n",
        "    next_q_targets = self.target_qnetwork(next_states).detach().max(1)[0].unsqueeze(1)\n",
        "    q_targets = rewards + discount_factor * next_q_targets * (1 - dones)\n",
        "    q_expected = self.local_qnetwork(states).gather(1, actions)\n",
        "    loss = F.mse_loss(q_expected, q_targets)\n",
        "    self.optimizer.zero_grad()\n",
        "    loss.backward()\n",
        "    self.optimizer.step()\n",
        "    self.soft_update(self.local_qnetwork, self.target_qnetwork, interpolation_parameter)\n",
        "\n",
        "  def soft_update(self, local_model, target_model, interpolation_parameter):\n",
        "    for target_param, local_param in zip(target_model.parameters(), local_model.parameters()):\n",
        "      target_param.data.copy_(interpolation_parameter * local_param.data + (1.0 - interpolation_parameter) * target_param.data)"
      ]
    },
    {
      "cell_type": "code",
      "execution_count": 9,
      "metadata": {
        "id": "HUZ3OCkGIkc-",
        "colab": {
          "base_uri": "https://localhost:8080/"
        },
        "outputId": "3ae333cd-6773-45e0-adf7-acd5db343daf"
      },
      "outputs": [
        {
          "output_type": "stream",
          "name": "stdout",
          "text": [
            "Linear(in_features=8, out_features=72, bias=True)\n",
            "Linear(in_features=72, out_features=84, bias=True)\n",
            "Linear(in_features=84, out_features=4, bias=True)\n",
            "Linear(in_features=8, out_features=72, bias=True)\n",
            "Linear(in_features=72, out_features=84, bias=True)\n",
            "Linear(in_features=84, out_features=4, bias=True)\n"
          ]
        }
      ],
      "source": [
        "#initializing the Deep Q-Network\n",
        "agent = Agent(state_size,number_actions)"
      ]
    },
    {
      "cell_type": "code",
      "execution_count": 10,
      "metadata": {
        "id": "EQK_ZTk4IkfW",
        "colab": {
          "base_uri": "https://localhost:8080/"
        },
        "outputId": "9364d0de-b114-4f58-d472-ef46bd0dacdd"
      },
      "outputs": [
        {
          "output_type": "stream",
          "name": "stdout",
          "text": [
            "Episode 100\tAverage Score: -188.69\n",
            "Episode 200\tAverage Score: -179.80\n",
            "Episode 300\tAverage Score: -212.46\n",
            "Episode 400\tAverage Score: -129.07\n",
            "Episode 500\tAverage Score: -77.26\n",
            "Episode 600\tAverage Score: -67.42\n",
            "Episode 700\tAverage Score: -40.21\n",
            "Episode 800\tAverage Score: -33.17\n",
            "Episode 900\tAverage Score: 45.58\n",
            "Episode 1000\tAverage Score: 148.36\n",
            "Episode 1100\tAverage Score: 95.85\n",
            "Episode 1200\tAverage Score: 66.26\n",
            "Episode 1300\tAverage Score: 77.25\n",
            "Episode 1400\tAverage Score: 94.93\n",
            "Episode 1500\tAverage Score: 65.37\n",
            "Episode 1600\tAverage Score: 74.10\n",
            "Episode 1700\tAverage Score: 93.05\n",
            "Episode 1800\tAverage Score: 101.14\n",
            "Episode 1900\tAverage Score: 118.68\n",
            "Episode 2000\tAverage Score: 112.79\n"
          ]
        }
      ],
      "source": [
        "#training the Deep Q-network agent\n",
        "number_episodes = 2000\n",
        "maximum_number_timesteps_per_episode = 1000\n",
        "epsilon_starting_value  = 1.0\n",
        "epsilon_ending_value  = 0.01\n",
        "epsilon_decay_value  = 0.995\n",
        "epsilon = epsilon_starting_value\n",
        "scores_on_100_episodes = deque(maxlen = 100)\n",
        "\n",
        "for episode in range(1, number_episodes + 1):\n",
        "  state, _ = env.reset()\n",
        "  score = 0\n",
        "  for t in range(maximum_number_timesteps_per_episode):\n",
        "    action = agent.act(state, epsilon)\n",
        "    next_state, reward, done, _, _ = env.step(action)\n",
        "    agent.step(state, action, reward, next_state, done)\n",
        "    state = next_state\n",
        "    score += reward\n",
        "    if done:\n",
        "      break\n",
        "  scores_on_100_episodes.append(score)\n",
        "  epsilon = max(epsilon_ending_value, epsilon_decay_value * epsilon)\n",
        "  print('\\rEpisode {}\\tAverage Score: {:.2f}'.format(episode, np.mean(scores_on_100_episodes)), end = \"\")\n",
        "  if episode % 100 == 0:\n",
        "    print('\\rEpisode {}\\tAverage Score: {:.2f}'.format(episode, np.mean(scores_on_100_episodes)))\n",
        "  if np.mean(scores_on_100_episodes) >= 200.0:\n",
        "    print('\\nEnvironment solved in {:d} episodes!\\tAverage Score: {:.2f}'.format(episode - 100, np.mean(scores_on_100_episodes)))\n",
        "    torch.save(agent.local_qnetwork.state_dict(), 'checkpoint.pth')\n",
        "    break"
      ]
    },
    {
      "cell_type": "code",
      "execution_count": 11,
      "metadata": {
        "id": "D-V9tMGVIkiO",
        "colab": {
          "base_uri": "https://localhost:8080/",
          "height": 459
        },
        "outputId": "0780e74b-28b9-4256-9d5a-3d9766796830"
      },
      "outputs": [
        {
          "output_type": "stream",
          "name": "stderr",
          "text": [
            "WARNING:imageio_ffmpeg:IMAGEIO FFMPEG_WRITER WARNING: input image is not divisible by macro_block_size=16, resizing from (600, 400) to (608, 400) to ensure video compatibility with most codecs and players. To prevent resizing, make your input image divisible by the macro_block_size or set the macro_block_size to 1 (risking incompatibility).\n"
          ]
        },
        {
          "output_type": "display_data",
          "data": {
            "text/plain": [
              "<IPython.core.display.HTML object>"
            ],
            "text/html": [
              "<video alt=\"test\" autoplay\n",
              "                loop controls style=\"height: 400px;\">\n",
              "                <source src=\"data:video/mp4;base64,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\" type=\"video/mp4\" />\n",
              "             </video>"
            ]
          },
          "metadata": {}
        }
      ],
      "source": [
        "#visualizing the lunar lander by agent\n",
        "import glob\n",
        "import io\n",
        "import base64\n",
        "import imageio\n",
        "from IPython.display import HTML, display\n",
        "from gym.wrappers.monitoring.video_recorder import VideoRecorder\n",
        "\n",
        "def show_video_of_model(agent, env_name):\n",
        "    env = gym.make(env_name, render_mode='rgb_array')\n",
        "    state, _ = env.reset()\n",
        "    done = False\n",
        "    frames = []\n",
        "    while not done:\n",
        "        frame = env.render()\n",
        "        frames.append(frame)\n",
        "        action = agent.act(state)\n",
        "        state, reward, done, _, _ = env.step(action.item())\n",
        "    env.close()\n",
        "    imageio.mimsave('lunar-video.mp4', frames,fps=30)\n",
        "\n",
        "show_video_of_model(agent, 'LunarLander-v2')\n",
        "\n",
        "def show_video():\n",
        "    mp4list = glob.glob('*.mp4')\n",
        "    if len(mp4list) > 0:\n",
        "        mp4 = mp4list[0]\n",
        "        video = io.open(mp4, 'r+b').read()\n",
        "        encoded = base64.b64encode(video)\n",
        "        display(HTML(data='''<video alt=\"test\" autoplay\n",
        "                loop controls style=\"height: 400px;\">\n",
        "                <source src=\"data:video/mp4;base64,{0}\" type=\"video/mp4\" />\n",
        "             </video>'''.format(encoded.decode('ascii'))))\n",
        "    else:\n",
        "        print(\"Could not find video\")\n",
        "\n",
        "show_video()"
      ]
    },
    {
      "cell_type": "code",
      "execution_count": 11,
      "metadata": {
        "id": "cFomMg_0Ikp7",
        "colab": {
          "base_uri": "https://localhost:8080/"
        },
        "outputId": "b1cad7c8-a1c9-4f2e-d0ce-cfe2c3bf77f9"
      },
      "outputs": [
        {
          "metadata": {
            "tags": null
          },
          "name": "stderr",
          "output_type": "stream",
          "text": [
            "/usr/local/lib/python3.10/dist-packages/ipykernel/ipkernel.py:283: DeprecationWarning: `should_run_async` will not call `transform_cell` automatically in the future. Please pass the result to `transformed_cell` argument and any exception that happen during thetransform in `preprocessing_exc_tuple` in IPython 7.17 and above.\n",
            "  and should_run_async(code)\n"
          ]
        }
      ],
      "source": []
    },
    {
      "cell_type": "code",
      "execution_count": 11,
      "metadata": {
        "id": "RavDutJBIkrw"
      },
      "outputs": [],
      "source": []
    },
    {
      "cell_type": "code",
      "execution_count": 11,
      "metadata": {
        "id": "o9PYzGDLIktq"
      },
      "outputs": [],
      "source": []
    },
    {
      "cell_type": "code",
      "execution_count": 11,
      "metadata": {
        "id": "mhhzP-LjIkva"
      },
      "outputs": [],
      "source": []
    },
    {
      "cell_type": "code",
      "execution_count": 11,
      "metadata": {
        "id": "8hiySnBwIkxb"
      },
      "outputs": [],
      "source": []
    },
    {
      "cell_type": "code",
      "execution_count": 11,
      "metadata": {
        "id": "PpMmumznIkzh"
      },
      "outputs": [],
      "source": []
    },
    {
      "cell_type": "code",
      "execution_count": 11,
      "metadata": {
        "id": "JITe1mgyIk2L"
      },
      "outputs": [],
      "source": []
    },
    {
      "cell_type": "code",
      "execution_count": 11,
      "metadata": {
        "id": "Y_Y8Je2yIk5M"
      },
      "outputs": [],
      "source": []
    },
    {
      "cell_type": "code",
      "execution_count": 11,
      "metadata": {
        "id": "4wdSr4cxIk7u"
      },
      "outputs": [],
      "source": []
    },
    {
      "cell_type": "code",
      "execution_count": 11,
      "metadata": {
        "id": "wyELjKQHIk9m"
      },
      "outputs": [],
      "source": []
    },
    {
      "cell_type": "code",
      "execution_count": 11,
      "metadata": {
        "id": "DxLZW5FkIk_w"
      },
      "outputs": [],
      "source": []
    },
    {
      "cell_type": "code",
      "execution_count": 11,
      "metadata": {
        "id": "lBy1yqv0IlBu"
      },
      "outputs": [],
      "source": []
    },
    {
      "cell_type": "code",
      "execution_count": 11,
      "metadata": {
        "id": "kqJxkZtsIlEb"
      },
      "outputs": [],
      "source": []
    },
    {
      "cell_type": "code",
      "execution_count": 11,
      "metadata": {
        "id": "_aY4wUZyIlHM"
      },
      "outputs": [],
      "source": []
    },
    {
      "cell_type": "code",
      "execution_count": 11,
      "metadata": {
        "id": "MQCIFhRsIlJ1"
      },
      "outputs": [],
      "source": []
    },
    {
      "cell_type": "code",
      "execution_count": 11,
      "metadata": {
        "id": "BeQLhZGpIlMb"
      },
      "outputs": [],
      "source": []
    },
    {
      "cell_type": "code",
      "execution_count": 11,
      "metadata": {
        "id": "L1qrTxu1IlOc"
      },
      "outputs": [],
      "source": []
    },
    {
      "cell_type": "code",
      "execution_count": 11,
      "metadata": {
        "id": "vDw43i3JIlQj"
      },
      "outputs": [],
      "source": []
    },
    {
      "cell_type": "code",
      "execution_count": 11,
      "metadata": {
        "id": "zz7BcvOqIlSn"
      },
      "outputs": [],
      "source": []
    },
    {
      "cell_type": "code",
      "execution_count": 11,
      "metadata": {
        "id": "_5GyBmnyIlXV"
      },
      "outputs": [],
      "source": []
    }
  ],
  "metadata": {
    "colab": {
      "provenance": []
    },
    "kernelspec": {
      "display_name": "Python 3",
      "name": "python3"
    },
    "language_info": {
      "name": "python"
    }
  },
  "nbformat": 4,
  "nbformat_minor": 0
}